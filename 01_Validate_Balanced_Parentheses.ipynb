{
 "cells": [
  {
   "cell_type": "markdown",
   "metadata": {},
   "source": [
    "# Validate Balanced Parentheses"
   ]
  },
  {
   "cell_type": "markdown",
   "metadata": {},
   "source": [
    "Imagine you are building a compiler. Before running any code, the compiler must check that the parentheses in the program are balanced. Every opening bracket must have a corresponding closing bracket. We can approximate this using strings. \n",
    "\n",
    "Given a string containing just the characters '(', ')', '{', '}', '[' and ']', determine if the input string is valid. \n",
    "An input string is valid if:\n",
    "- Open brackets are closed by the same type of brackets.\n",
    "- Open brackets are closed in the correct order.\n",
    "- Note that an empty string is also considered valid."
   ]
  },
  {
   "cell_type": "markdown",
   "metadata": {},
   "source": [
    "## Example"
   ]
  },
  {
   "cell_type": "markdown",
   "metadata": {},
   "source": [
    " - Input: \"((()))\"  Output: True \n",
    " - Input: \"[()]{}\"  Output: True\n",
    " - Input: \"({[)]\"   Output: False"
   ]
  },
  {
   "cell_type": "markdown",
   "metadata": {},
   "source": [
    "## Test"
   ]
  },
  {
   "cell_type": "code",
   "execution_count": 1,
   "metadata": {},
   "outputs": [],
   "source": [
    "class testBuilderCompiler():\n",
    "    \n",
    "    def __init__(self):\n",
    "        self.example1 = \"((()))\"\n",
    "        self.example2 = \"[()]{}\"\n",
    "        self.example3 = \"({[)]\"\n",
    "        \n",
    "    def testwithStack(self):\n",
    "        result1 = Solution().withStack(self.example1)\n",
    "        result2 = Solution().withStack(self.example2)\n",
    "        result3 = Solution().withStack(self.example3)\n",
    "        if result1 == True and result2 == True and result3 == False:\n",
    "            return \"Test Passed for withStack\"\n",
    "        return \"Test Not Passed for withStack\"\n",
    "        "
   ]
  },
  {
   "cell_type": "markdown",
   "metadata": {},
   "source": [
    "## Solution"
   ]
  },
  {
   "cell_type": "code",
   "execution_count": 2,
   "metadata": {},
   "outputs": [],
   "source": [
    "class Solution:\n",
    "    \n",
    "    def withStack(self, expression):\n",
    "        stack = []\n",
    "        for character in expression:\n",
    "            if character == '(' or character == \"[\" or character == '{':\n",
    "                stack.append(character)\n",
    "            elif len(stack) > 0:\n",
    "                if character == ')' and stack[-1] == '(' :\n",
    "                    stack.pop()\n",
    "                elif character == ']' and stack[-1] == '[' :\n",
    "                    stack.pop()\n",
    "                elif character == '}' and stack[-1] == '{' :\n",
    "                    stack.pop()\n",
    "                else:\n",
    "                    return False\n",
    "            else:\n",
    "                return False\n",
    "        if len(stack) == 0:\n",
    "            return True\n",
    "        return False"
   ]
  },
  {
   "cell_type": "markdown",
   "metadata": {},
   "source": [
    "## Running Test"
   ]
  },
  {
   "cell_type": "code",
   "execution_count": 3,
   "metadata": {},
   "outputs": [
    {
     "data": {
      "text/plain": [
       "'Test Passed for withStack'"
      ]
     },
     "execution_count": 3,
     "metadata": {},
     "output_type": "execute_result"
    }
   ],
   "source": [
    "Test = testBuilderCompiler()\n",
    "Test.testwithStack()"
   ]
  }
 ],
 "metadata": {
  "kernelspec": {
   "display_name": "Python 3",
   "language": "python",
   "name": "python3"
  },
  "language_info": {
   "codemirror_mode": {
    "name": "ipython",
    "version": 3
   },
   "file_extension": ".py",
   "mimetype": "text/x-python",
   "name": "python",
   "nbconvert_exporter": "python",
   "pygments_lexer": "ipython3",
   "version": "3.7.4"
  }
 },
 "nbformat": 4,
 "nbformat_minor": 2
}
